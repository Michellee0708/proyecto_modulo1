{
 "cells": [
  {
   "cell_type": "markdown",
   "metadata": {},
   "source": [
    "# Problema del curioso"
   ]
  },
  {
   "cell_type": "markdown",
   "metadata": {},
   "source": [
    "##  1. Obejtivos\n",
    "\n",
    "### 1.1 Objetivo general\n",
    "\n",
    "- Poner en práctica conocimientos sobre programación lineal en problemas cotidianos\n"
   ]
  },
  {
   "cell_type": "markdown",
   "metadata": {},
   "source": [
    "### 1.2 Obejtivos específicos\n",
    "\n",
    "- Descubrir las posibles cifras sobre datos ocultos en tablas\n",
    "- Romper el control de privacidad en tablas publicadas"
   ]
  },
  {
   "cell_type": "markdown",
   "metadata": {},
   "source": [
    "## 2. Modelo que representa el problema"
   ]
  },
  {
   "cell_type": "markdown",
   "metadata": {},
   "source": [
    "\n",
    "Los problemas de datos ocultos tienen como objetivo encontrar las cifras de dichos datos publicados en tablas como la que se muestra a continuación. Las celdas que tienen un asterisco son precisamente aquellos datos que no son públicados ya que es infromación confidencial o privada. Esto se hace porque puede dañar la reputación de las personas entrevistadas cuando el número de ciertos colectivos es muy bajo en la región, o bien, otros datos tambien se censuran precisamente para proteger lo dicho anteriormente, ya que al conocer todos las variables y los totales, sería muy fácil conocer los datos ocultos contando filas y columnas. \n",
    "\n",
    "\n",
    "\n",
    "--|Policía|Profesor|Maestro|Vigilante|Obispo|Estudiante|Total\n",
    ":----|----|----|----|----|----|----|----\n",
    "Lectura|   5|345|130|15 |212|105|812\n",
    "Vicios|   52| * |212|234|*  |234|953\n",
    "Gimnasia|432| * |45 |*  |7  |32 |726\n",
    "Ropa|     34| 90|85 |*  |*  |25 |271\n",
    "Total|   523|576|472|447|321|423|2762\n",
    "\n",
    "Pero gracias a la programación lineal estos datos ocultos son fáciles de encontrar, solomente se siguen los siguinetes pasos:\n",
    "1. Definir las funcionales de costos\n",
    "2. Definir las variables\n",
    "3. Definir restricciones\n",
    "\n",
    "Los cuales son mostrados y explicados a continuación\n",
    "\n"
   ]
  },
  {
   "cell_type": "markdown",
   "metadata": {},
   "source": [
    "###  Paso 1. Funciones a máximizar y mínimizar\n",
    "\n",
    "$$\\min_{x_{22},x_{25},x_{32},x_{34},x_{44},x_{45}} =  x_{25}$$\n",
    "$$\\max_{x_{22},x_{25},x_{32},x_{34},x_{44},x_{45}} =-x_{25}$$\n",
    "\n",
    "$$\\min_{x_{22},x_{25},x_{32},x_{34},x_{44},x_{45}} =  x_{22}$$\n",
    "$$\\max_{x_{22},x_{25},x_{32},x_{34},x_{44},x_{45}} = -x_{22}$$\n",
    "\n",
    "$$\\min_{x_{22},x_{25},x_{32},x_{34},x_{44},x_{45}} =  x_{32}$$\n",
    "$$\\max_{x_{22},x_{25},x_{32},x_{34},x_{44},x_{45}} = -x_{32}$$\n",
    "\n",
    "\n",
    "Las siguientes funciones fueron elegidas de acuerdo a los datos ocultos con mayor interés a conocer, en este caso fueron $x_{22}$= Profesores con gastos en vicios , $x_{25}$= Obispos con gastos en vicios y $x_{32}$= Profesores con gastos en gimnasia. Una vez teniendo las funcionales de costos estas se deben de maximizar y minimizar para conocer el rango de valores en los que estan esos datos ocultos."
   ]
  },
  {
   "cell_type": "markdown",
   "metadata": {},
   "source": [
    "### Paso 2. Variables\n",
    "\n",
    "Los datos en la tabla fueron asignados de acuerdo a la posición que tenían. A cada celda se le asignó una variable $x_{ij}$, donde _i_ representa el número de fila y j el número de columna. De ahí se tomaron solo aquellas celdas que tienen un asterisco y se tomaron como variables ya que son los datos que se busca conocer.\n",
    "\n",
    "- $x_{22}$= Profesores con gastos en vicios\n",
    "- $x_{25}$= Obispos con gastos en vicios\n",
    "- $x_{32}$= Profesores con gastos en gimnasia\n",
    "- $x_{34}$= Vigilantes con gastos en gimnasia\n",
    "- $x_{44}$= Vigilantes con gastos en ropa\n",
    "- $x_{45}$= Obispos con gastos en ropa\n"
   ]
  },
  {
   "cell_type": "markdown",
   "metadata": {},
   "source": [
    "### Paso 3. Restricciones de números ocultos\n",
    " $$x_{22}+x_{25}\\leq221$$\n",
    " $$x_{32}+x_{34}\\leq210$$\n",
    " $$x_{44}+x_{45}\\leq10$$\n",
    " $$x_{22}+x_{32}\\leq141$$\n",
    " $$x_{34}+x_{44}\\leq198$$\n",
    " $$x_{25}+x_{45}\\leq102$$\n",
    " \n",
    " Las siguientes restricciones fueron sacadas de la tabla anterior, esto gracias a analizar las columnas y las filas por separado. Por ejemplo, en la primera restricción fue analizada la fila 2 donde había 2 datos ocultos, las cuales eran $x_{22}$= Profesores con gastos en vicios y $x_{25}$= Obispos con gastos en vicios. Debido a que las demas variables de la fila son conocidas, así como el total, se le restaron las variables conocidas al total, lo que da 221 y es lo que la suma de ambos datos ocultos debería de dar. Así, se realizó el mismo procedimiento para las demás restricciones."
   ]
  },
  {
   "cell_type": "markdown",
   "metadata": {},
   "source": [
    "## 3. Solución del problema"
   ]
  },
  {
   "cell_type": "code",
   "execution_count": 1,
   "metadata": {},
   "outputs": [],
   "source": [
    "import numpy as np\n",
    "import scipy.optimize as opt"
   ]
  },
  {
   "cell_type": "markdown",
   "metadata": {},
   "source": [
    "### Dato oculto a conocer: Obispos con gastos en vicios"
   ]
  },
  {
   "cell_type": "code",
   "execution_count": 2,
   "metadata": {},
   "outputs": [],
   "source": [
    "A=np.array([[1,1,0,0,0,0],\n",
    "               [0,0,1,1,0,0],\n",
    "               [0,0,0,0,1,1],\n",
    "               [1,0,1,0,0,0], \n",
    "               [0,0,0,1,1,0],\n",
    "               [0,1,0,0,0,1]])\n",
    "\n",
    "b=np.array([221,210,10,141,198,102])\n",
    "\n",
    "\n",
    "c=np.array([0, 1,0,0,0,0])"
   ]
  },
  {
   "cell_type": "code",
   "execution_count": 3,
   "metadata": {},
   "outputs": [
    {
     "data": {
      "text/plain": [
       "     con: array([], dtype=float64)\n",
       "     fun: 0.0\n",
       " message: 'Optimization terminated successfully.'\n",
       "     nit: 9\n",
       "   slack: array([92.,  0.,  0.,  0.,  0., 92.])\n",
       "  status: 0\n",
       " success: True\n",
       "       x: array([129.,   0.,  12., 198.,   0.,  10.])"
      ]
     },
     "execution_count": 3,
     "metadata": {},
     "output_type": "execute_result"
    }
   ],
   "source": [
    "Obispos_vicios_min=opt.linprog(c,A_ub=A,b_ub=b)\n",
    "Obispos_vicios_min"
   ]
  },
  {
   "cell_type": "code",
   "execution_count": 4,
   "metadata": {},
   "outputs": [],
   "source": [
    "A=np.array([[1,1,0,0,0,0],\n",
    "               [0,0,1,1,0,0],\n",
    "               [0,0,0,0,1,1],\n",
    "               [1,0,1,0,0,0], \n",
    "               [0,0,0,1,1,0],\n",
    "               [0,1,0,0,0,1]])\n",
    "\n",
    "b=np.array([221,210,10,141,198,102])\n",
    "\n",
    "c=np.array([0,-1,0,0,0,0])"
   ]
  },
  {
   "cell_type": "code",
   "execution_count": 5,
   "metadata": {},
   "outputs": [
    {
     "data": {
      "text/plain": [
       "     con: array([], dtype=float64)\n",
       "     fun: -102.0\n",
       " message: 'Optimization terminated successfully.'\n",
       "     nit: 6\n",
       "   slack: array([0., 0., 0., 0., 0., 0.])\n",
       "  status: 0\n",
       " success: True\n",
       "       x: array([119., 102.,  22., 188.,  10.,   0.])"
      ]
     },
     "execution_count": 5,
     "metadata": {},
     "output_type": "execute_result"
    }
   ],
   "source": [
    "Obispos_vicios_max=opt.linprog(c,A_ub=A,b_ub=b)\n",
    "Obispos_vicios_max"
   ]
  },
  {
   "cell_type": "code",
   "execution_count": 6,
   "metadata": {},
   "outputs": [
    {
     "data": {
      "text/plain": [
       "(0.0, 102.0)"
      ]
     },
     "execution_count": 6,
     "metadata": {},
     "output_type": "execute_result"
    }
   ],
   "source": [
    "Obispos_vicios_min.x[1],Obispos_vicios_max.x[1]"
   ]
  },
  {
   "cell_type": "markdown",
   "metadata": {},
   "source": [
    "__De los resultados anteriores, una vez maximizada y mínimizada la función se puede ver que el rango de ovispos con gastos en vicios, este va desde 0 hasta 102__"
   ]
  },
  {
   "cell_type": "markdown",
   "metadata": {},
   "source": [
    "### Dato oculto a conocer: Profesores con gastos en vicios"
   ]
  },
  {
   "cell_type": "code",
   "execution_count": 7,
   "metadata": {},
   "outputs": [],
   "source": [
    "A=np.array([[1,1,0,0,0,0],\n",
    "               [0,0,1,1,0,0],\n",
    "               [0,0,0,0,1,1],\n",
    "               [1,0,1,0,0,0], \n",
    "               [0,0,0,1,1,0],\n",
    "               [0,1,0,0,0,1]])\n",
    "\n",
    "b=np.array([221,210,10,141,198,102])\n",
    "\n",
    "\n",
    "c=np.array([1,0,0,0,0,0])"
   ]
  },
  {
   "cell_type": "code",
   "execution_count": 8,
   "metadata": {},
   "outputs": [
    {
     "data": {
      "text/plain": [
       "     con: array([], dtype=float64)\n",
       "     fun: 0.0\n",
       " message: 'Optimization terminated successfully.'\n",
       "     nit: 7\n",
       "   slack: array([119.,   0.,   0., 119.,   0.,   0.])\n",
       "  status: 0\n",
       " success: True\n",
       "       x: array([  0., 102.,  22., 188.,  10.,   0.])"
      ]
     },
     "execution_count": 8,
     "metadata": {},
     "output_type": "execute_result"
    }
   ],
   "source": [
    "Profesores_vicios_min=opt.linprog(c,A_ub=A,b_ub=b)\n",
    "Profesores_vicios_min"
   ]
  },
  {
   "cell_type": "code",
   "execution_count": 9,
   "metadata": {},
   "outputs": [],
   "source": [
    "A=np.array([[1,1,0,0,0,0],\n",
    "               [0,0,1,1,0,0],\n",
    "               [0,0,0,0,1,1],\n",
    "               [1,0,1,0,0,0], \n",
    "               [0,0,0,1,1,0],\n",
    "               [0,1,0,0,0,1]])\n",
    "\n",
    "b=np.array([221,210,10,141,198,102])\n",
    "\n",
    "\n",
    "c=np.array([-1,0,0,0,0,0])"
   ]
  },
  {
   "cell_type": "code",
   "execution_count": 10,
   "metadata": {},
   "outputs": [
    {
     "data": {
      "text/plain": [
       "     con: array([], dtype=float64)\n",
       "     fun: -141.0\n",
       " message: 'Optimization terminated successfully.'\n",
       "     nit: 9\n",
       "   slack: array([ 0., 12.,  0.,  0.,  0., 12.])\n",
       "  status: 0\n",
       " success: True\n",
       "       x: array([141.,  80.,   0., 198.,   0.,  10.])"
      ]
     },
     "execution_count": 10,
     "metadata": {},
     "output_type": "execute_result"
    }
   ],
   "source": [
    "Profesores_vicios_max=opt.linprog(c,A_ub=A,b_ub=b)\n",
    "Profesores_vicios_max"
   ]
  },
  {
   "cell_type": "code",
   "execution_count": 11,
   "metadata": {},
   "outputs": [
    {
     "data": {
      "text/plain": [
       "(0.0, 141.0)"
      ]
     },
     "execution_count": 11,
     "metadata": {},
     "output_type": "execute_result"
    }
   ],
   "source": [
    "Profesores_vicios_min.x[0], Profesores_vicios_max.x[0]"
   ]
  },
  {
   "cell_type": "markdown",
   "metadata": {},
   "source": [
    "__De los resultados anteriores, una vez maximizada y mínimizada la función se puede ver que el rango de profesores con gastos en vicios, este va desde 0 hasta 141__"
   ]
  },
  {
   "cell_type": "markdown",
   "metadata": {},
   "source": [
    "### Dato oculto a conocer: Profesores con gastos en gimnasia"
   ]
  },
  {
   "cell_type": "code",
   "execution_count": 12,
   "metadata": {},
   "outputs": [],
   "source": [
    "A=np.array([[1,1,0,0,0,0],\n",
    "               [0,0,1,1,0,0],\n",
    "               [0,0,0,0,1,1],\n",
    "               [1,0,1,0,0,0], \n",
    "               [0,0,0,1,1,0],\n",
    "               [0,1,0,0,0,1]])\n",
    "\n",
    "b=np.array([221,210,10,141,198,102])\n",
    "\n",
    "\n",
    "c=np.array([0,0,1,0,0,0])"
   ]
  },
  {
   "cell_type": "code",
   "execution_count": 13,
   "metadata": {
    "scrolled": true
   },
   "outputs": [
    {
     "data": {
      "text/plain": [
       "     con: array([], dtype=float64)\n",
       "     fun: 0.0\n",
       " message: 'Optimization terminated successfully.'\n",
       "     nit: 8\n",
       "   slack: array([ 0., 12.,  0., 12.,  0.,  0.])\n",
       "  status: 0\n",
       " success: True\n",
       "       x: array([129.,  92.,   0., 198.,   0.,  10.])"
      ]
     },
     "execution_count": 13,
     "metadata": {},
     "output_type": "execute_result"
    }
   ],
   "source": [
    "Profesores_gimnasia_min=opt.linprog(c,A_ub=A,b_ub=b)\n",
    "Profesores_gimnasia_min"
   ]
  },
  {
   "cell_type": "code",
   "execution_count": 14,
   "metadata": {},
   "outputs": [],
   "source": [
    "A=np.array([[1,1,0,0,0,0],\n",
    "               [0,0,1,1,0,0],\n",
    "               [0,0,0,0,1,1],\n",
    "               [1,0,1,0,0,0], \n",
    "               [0,0,0,1,1,0],\n",
    "               [0,1,0,0,0,1]])\n",
    "\n",
    "b=np.array([221,210,10,141,198,102])\n",
    "\n",
    "\n",
    "c=np.array([0,0,-1,0,0,0])"
   ]
  },
  {
   "cell_type": "code",
   "execution_count": 15,
   "metadata": {},
   "outputs": [
    {
     "data": {
      "text/plain": [
       "     con: array([], dtype=float64)\n",
       "     fun: -141.0\n",
       " message: 'Optimization terminated successfully.'\n",
       "     nit: 8\n",
       "   slack: array([119.,   0.,   0.,   0., 119.,   0.])\n",
       "  status: 0\n",
       " success: True\n",
       "       x: array([  0., 102., 141.,  69.,  10.,   0.])"
      ]
     },
     "execution_count": 15,
     "metadata": {},
     "output_type": "execute_result"
    }
   ],
   "source": [
    "Profesores_gimnasia_max=opt.linprog(c,A_ub=A,b_ub=b)\n",
    "Profesores_gimnasia_max"
   ]
  },
  {
   "cell_type": "code",
   "execution_count": 16,
   "metadata": {},
   "outputs": [
    {
     "data": {
      "text/plain": [
       "(0.0, 141.0)"
      ]
     },
     "execution_count": 16,
     "metadata": {},
     "output_type": "execute_result"
    }
   ],
   "source": [
    "Profesores_gimnasia_min.x[2], Profesores_gimnasia_max.x[2]"
   ]
  },
  {
   "cell_type": "markdown",
   "metadata": {},
   "source": [
    "__De los resultados anteriores, una vez maximizada y mínimizada la función se puede ver que el rango de profesores con gastos en gimnasia, este va desde 0 hasta 141__"
   ]
  },
  {
   "cell_type": "markdown",
   "metadata": {},
   "source": [
    "## 4. Visualización de la solución del problema.\n"
   ]
  },
  {
   "cell_type": "markdown",
   "metadata": {},
   "source": [
    "La siguiente tabla a diferencia de la primera contiene los rango de datos obtenidos de algunas variables\n",
    "\n",
    "--|Policía|Profesor|Maestro|Vigilante|Obispo|Estudiante|Total\n",
    ":----|----|----|----|----|----|----|----\n",
    "Lectura|   5|345|130|15 |212|105|812\n",
    "Vicios|   52| 0-141|212|234|0-102  |234|953\n",
    "Gimnasia|432| 0-141 |45 |*  |7  |32 |726\n",
    "Ropa|     34| 90|85 |*  |*  |25 |271\n",
    "Total|   523|576|472|447|321|423|2762"
   ]
  },
  {
   "cell_type": "markdown",
   "metadata": {},
   "source": [
    "## 5. Conclusiones"
   ]
  },
  {
   "cell_type": "markdown",
   "metadata": {},
   "source": [
    "En conclusión, los objetivos específicos se cumplieron. Sin embargo, los resultados obtenidos no fueron los esperados ya que los rangos arrojados por las funciones de optimización fueron muy grandes. No obstante, gracias a estos rangos se puede tener una idea sobre los datos desconocidos. Es por ello que este tipo de problemas se le denomina como problemas del curioso. Además durante la obtención de los resultados se puso en práctica los conocimientos de programación lineal vistos en clase lo cual cumple con el objetivo general del proyecto.\n"
   ]
  },
  {
   "cell_type": "markdown",
   "metadata": {},
   "source": [
    "## 6. Referencias"
   ]
  },
  {
   "cell_type": "markdown",
   "metadata": {},
   "source": [
    "* Salazar, J. (2003).  Optimización Matemática: Ejemplos y aplicaciones. Curso Universitario Interdisciplinar “Sociedad, Ciencia, Tecnología y Matemáticas”. Recuperado de: http://jjsalaza.webs.ull.es/"
   ]
  }
 ],
 "metadata": {
  "kernelspec": {
   "display_name": "Python 3",
   "language": "python",
   "name": "python3"
  },
  "language_info": {
   "codemirror_mode": {
    "name": "ipython",
    "version": 3
   },
   "file_extension": ".py",
   "mimetype": "text/x-python",
   "name": "python",
   "nbconvert_exporter": "python",
   "pygments_lexer": "ipython3",
   "version": "3.7.3"
  }
 },
 "nbformat": 4,
 "nbformat_minor": 2
}
